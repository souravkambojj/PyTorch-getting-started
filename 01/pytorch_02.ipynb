{
  "nbformat": 4,
  "nbformat_minor": 0,
  "metadata": {
    "colab": {
      "provenance": []
    },
    "kernelspec": {
      "name": "python3",
      "display_name": "Python 3"
    },
    "language_info": {
      "name": "python"
    }
  },
  "cells": [
    {
      "cell_type": "code",
      "execution_count": 1,
      "metadata": {
        "id": "gahrrqWsKuiV"
      },
      "outputs": [],
      "source": [
        "import torch"
      ]
    },
    {
      "cell_type": "markdown",
      "source": [
        "**gradient**"
      ],
      "metadata": {
        "id": "spmsGkJO3Sit"
      }
    },
    {
      "cell_type": "code",
      "source": [
        "x = torch.tensor([3.0],dtype=torch.float32,requires_grad=True)\n",
        "y = x**2 + 4\n",
        "y.backward()  #dy/dx = 2x = 2*3 = 6\n",
        "print(x.grad)"
      ],
      "metadata": {
        "colab": {
          "base_uri": "https://localhost:8080/"
        },
        "id": "VhXWsdjrc_Js",
        "outputId": "ae9a65fc-03a3-4d8f-d1ba-8ce5d79b876c"
      },
      "execution_count": 2,
      "outputs": [
        {
          "output_type": "stream",
          "name": "stdout",
          "text": [
            "tensor([6.])\n"
          ]
        }
      ]
    },
    {
      "cell_type": "code",
      "source": [
        "x = torch.tensor(3.0)               #dz/dx = y*x**(y-1) = 7*3**6 = 5103\n",
        "y = torch.tensor(7.0)               #dz/dy = ?  #take log on both side\n",
        "                                    #d (logx base a)/dx = 1/x * log a base e = 1/x\n",
        "x.requires_grad_(True)              #log(z) = log x**y = y*log(x)\n",
        "y.requires_grad_(True)              # d log(z)/dy = (log x)\n",
        "                                    # (1/z)* dz/dy = log x\n",
        "                                    #dz/dy = z*log x = (x**y) * log x = 3**7 * log 3 base e = 2187*1.098612 = 2402.66\n",
        "z = x**y\n",
        "z.backward()             #\n",
        "\n",
        "print(x.grad)\n",
        "print(y.grad)"
      ],
      "metadata": {
        "colab": {
          "base_uri": "https://localhost:8080/"
        },
        "id": "CYfN2uB1dm6T",
        "outputId": "0505414b-eb00-45f0-a12b-9d549ae7ee0c"
      },
      "execution_count": 3,
      "outputs": [
        {
          "output_type": "stream",
          "name": "stdout",
          "text": [
            "tensor(5103.)\n",
            "tensor(2402.6650)\n"
          ]
        }
      ]
    },
    {
      "cell_type": "code",
      "source": [
        "m = torch.tensor(2.0,dtype=torch.float32,requires_grad=True)\n",
        "x = torch.tensor(4.0,dtype=torch.float32,requires_grad=True)\n",
        "c = torch.tensor(7.0,dtype=torch.float32,requires_grad=True)\n",
        "\n",
        "x = x.detach()\n",
        "\n",
        "y = m*x+c\n",
        "y.backward()\n",
        "\n",
        "print(m.grad)\n",
        "print(x.grad)\n",
        "print(c.grad)"
      ],
      "metadata": {
        "colab": {
          "base_uri": "https://localhost:8080/"
        },
        "id": "c6i-0jYGeVQo",
        "outputId": "a675345c-384c-4072-8303-970a39fc5904"
      },
      "execution_count": 4,
      "outputs": [
        {
          "output_type": "stream",
          "name": "stdout",
          "text": [
            "tensor(4.)\n",
            "None\n",
            "tensor(1.)\n"
          ]
        }
      ]
    },
    {
      "cell_type": "markdown",
      "source": [
        "**Softmax nd cross-entropy loss using numpy**"
      ],
      "metadata": {
        "id": "_CuSwpQj3ujk"
      }
    },
    {
      "cell_type": "code",
      "source": [
        "import numpy as np\n",
        "from numpy import exp,log"
      ],
      "metadata": {
        "id": "ILHumM-j_ti2"
      },
      "execution_count": 5,
      "outputs": []
    },
    {
      "cell_type": "code",
      "source": [
        "#3 classes and 3 samples\n",
        "x1,y1_actual = np.array([2.5,0.3,0.6]),np.array([1,0,0])\n",
        "x2,y2_actual = np.array([0.3,2.7,0.3]),np.array([0,1,0])\n",
        "x3,y3_actual = np.array([0.1,0.2,1.6]),np.array([0,0,1])"
      ],
      "metadata": {
        "id": "za6aad9QR118"
      },
      "execution_count": 6,
      "outputs": []
    },
    {
      "cell_type": "code",
      "source": [
        "exp(2.5)/(exp(2.5)+exp(0.3)+exp(0.6))"
      ],
      "metadata": {
        "colab": {
          "base_uri": "https://localhost:8080/"
        },
        "id": "GciCFYG3Xt_y",
        "outputId": "6bb8c81b-6539-4dc3-da22-3f419377875d"
      },
      "execution_count": 7,
      "outputs": [
        {
          "output_type": "execute_result",
          "data": {
            "text/plain": [
              "0.7934166868732382"
            ]
          },
          "metadata": {},
          "execution_count": 7
        }
      ]
    },
    {
      "cell_type": "code",
      "source": [
        "def softmax(x):\n",
        "  return exp(x)/np.sum(exp(x))\n",
        "\n",
        "y1_pred=softmax(x1)\n",
        "y2_pred=softmax(x2)\n",
        "y3_pred=softmax(x3)\n",
        "print(y1_pred,y2_pred,y3_pred)"
      ],
      "metadata": {
        "colab": {
          "base_uri": "https://localhost:8080/"
        },
        "id": "GgGkgXUiR2Az",
        "outputId": "cca58cec-8a17-4580-cb9b-011d25d275b8"
      },
      "execution_count": 8,
      "outputs": [
        {
          "output_type": "stream",
          "name": "stdout",
          "text": [
            "[0.79341669 0.08791307 0.11867024] [0.07678618 0.84642763 0.07678618] [0.15181741 0.16778418 0.68039841]\n"
          ]
        }
      ]
    },
    {
      "cell_type": "code",
      "source": [
        "#cross-entropy loss\n",
        "loss_x1 = -np.sum(y1_actual*log(y1_pred)) # -(1*log(0.79) + 0*log(0.0879) + 0*log(0.1186))\n",
        "loss_x2 = -np.sum(y2_actual*log(y2_pred))\n",
        "loss_x3 = -np.sum(y3_actual*log(y3_pred))\n",
        "print(loss_x1,loss_x2,loss_x3)\n",
        "\n",
        "#overall loss = mean of loss associated with each example\n",
        "loss = (loss_x1+loss_x2+loss_x3)/3\n",
        "print(loss)"
      ],
      "metadata": {
        "colab": {
          "base_uri": "https://localhost:8080/"
        },
        "id": "q07VTxC0TGVg",
        "outputId": "0bb635c6-af70-43b1-8087-76f995882e5b"
      },
      "execution_count": 9,
      "outputs": [
        {
          "output_type": "stream",
          "name": "stdout",
          "text": [
            "0.23140673901665318 0.16673056867343997 0.3850767536885644\n",
            "0.2610713537928859\n"
          ]
        }
      ]
    },
    {
      "cell_type": "markdown",
      "source": [
        "**Using Pytorch**"
      ],
      "metadata": {
        "id": "v5ObrgBwYcYO"
      }
    },
    {
      "cell_type": "code",
      "source": [
        "import torch\n",
        "import torch.nn as nn\n",
        "\n",
        "#3classes and 3 samples\n",
        "x = torch.tensor([[2.5,0.3,0.6],[0.3,2.7,0.3],[0.1,0.2,1.6]])\n",
        "y = torch.tensor([0,1,2])"
      ],
      "metadata": {
        "id": "i3yc6DMoYf9k"
      },
      "execution_count": 10,
      "outputs": []
    },
    {
      "cell_type": "markdown",
      "source": [
        "**Ex1**"
      ],
      "metadata": {
        "id": "DUgMVQTfY4xF"
      }
    },
    {
      "cell_type": "code",
      "source": [
        "y_pred = torch.softmax(x,dim=1) #for dim=0 it will calculate row-wise which is wrong\n",
        "y_pred"
      ],
      "metadata": {
        "colab": {
          "base_uri": "https://localhost:8080/"
        },
        "id": "770g5SzJY304",
        "outputId": "c31ae0a9-b5fb-4780-a5de-3237a4866950"
      },
      "execution_count": 11,
      "outputs": [
        {
          "output_type": "execute_result",
          "data": {
            "text/plain": [
              "tensor([[0.7934, 0.0879, 0.1187],\n",
              "        [0.0768, 0.8464, 0.0768],\n",
              "        [0.1518, 0.1678, 0.6804]])"
            ]
          },
          "metadata": {},
          "execution_count": 11
        }
      ]
    },
    {
      "cell_type": "markdown",
      "source": [
        "**mtd1**"
      ],
      "metadata": {
        "id": "oF6ZFSH1kOTd"
      }
    },
    {
      "cell_type": "code",
      "source": [
        "loss = -(np.log(0.7934)+np.log(0.8464)+np.log(0.6804))/3\n",
        "loss"
      ],
      "metadata": {
        "colab": {
          "base_uri": "https://localhost:8080/"
        },
        "id": "8dv-Zi0rGQv9",
        "outputId": "c6906397-060d-423a-f728-2a5346e870c7"
      },
      "execution_count": 12,
      "outputs": [
        {
          "output_type": "execute_result",
          "data": {
            "text/plain": [
              "0.26108846908014655"
            ]
          },
          "metadata": {},
          "execution_count": 12
        }
      ]
    },
    {
      "cell_type": "markdown",
      "source": [
        "**mtd2**"
      ],
      "metadata": {
        "id": "_SY_vWRokUkU"
      }
    },
    {
      "cell_type": "code",
      "source": [
        "loss2 = torch.mean(-torch.log(y_pred.gather(1,y.view(-1,1))))\n",
        "loss2"
      ],
      "metadata": {
        "id": "msYHljG5Gr-A",
        "colab": {
          "base_uri": "https://localhost:8080/"
        },
        "outputId": "ceadc317-ab76-4002-85bc-8b86e72541b1"
      },
      "execution_count": 13,
      "outputs": [
        {
          "output_type": "execute_result",
          "data": {
            "text/plain": [
              "tensor(0.2611)"
            ]
          },
          "metadata": {},
          "execution_count": 13
        }
      ]
    },
    {
      "cell_type": "markdown",
      "source": [
        "**mtd3**"
      ],
      "metadata": {
        "id": "pH_uHjW2kXqU"
      }
    },
    {
      "cell_type": "code",
      "source": [
        "criterion1 = nn.CrossEntropyLoss()\n",
        "loss3 = criterion1(x,y)\n",
        "loss3"
      ],
      "metadata": {
        "colab": {
          "base_uri": "https://localhost:8080/"
        },
        "id": "HrOZXtfkkdO-",
        "outputId": "b050a848-b3cd-445c-c303-2914a71e7d43"
      },
      "execution_count": 14,
      "outputs": [
        {
          "output_type": "execute_result",
          "data": {
            "text/plain": [
              "tensor(0.2611)"
            ]
          },
          "metadata": {},
          "execution_count": 14
        }
      ]
    },
    {
      "cell_type": "markdown",
      "source": [
        "**Ex2**"
      ],
      "metadata": {
        "id": "d7o4FXtfcoe1"
      }
    },
    {
      "cell_type": "code",
      "source": [
        "#5 classes and 4 samples\n",
        "x = torch.tensor([[0.19,0.15,0.5,3.5,0.4],[2.5,0.01,0.02,0.15,0.29],[0.03,0.19,2.7,0.3,1.5],[0.1,1.6,0.2,0.08,0.15]])\n",
        "y = torch.tensor([3,0,2,1])"
      ],
      "metadata": {
        "id": "ypFdhIfOcZpH"
      },
      "execution_count": 15,
      "outputs": []
    },
    {
      "cell_type": "code",
      "source": [
        "criterion = nn.CrossEntropyLoss()\n",
        "loss = criterion(x,y)\n",
        "loss.item()"
      ],
      "metadata": {
        "colab": {
          "base_uri": "https://localhost:8080/"
        },
        "id": "LPjwMmaljt6i",
        "outputId": "d925358f-480a-4d2b-9ece-f5a9024ea827"
      },
      "execution_count": 16,
      "outputs": [
        {
          "output_type": "execute_result",
          "data": {
            "text/plain": [
              "0.3893183171749115"
            ]
          },
          "metadata": {},
          "execution_count": 16
        }
      ]
    },
    {
      "cell_type": "code",
      "source": [],
      "metadata": {
        "id": "yzPkBoM0j-sc"
      },
      "execution_count": 16,
      "outputs": []
    }
  ]
}