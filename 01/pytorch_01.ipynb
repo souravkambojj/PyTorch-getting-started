{
  "nbformat": 4,
  "nbformat_minor": 0,
  "metadata": {
    "colab": {
      "provenance": [],
      "toc_visible": true,
      "gpuType": "T4"
    },
    "kernelspec": {
      "name": "python3",
      "display_name": "Python 3"
    },
    "language_info": {
      "name": "python"
    },
    "accelerator": "GPU"
  },
  "cells": [
    {
      "cell_type": "code",
      "execution_count": 1,
      "metadata": {
        "id": "OGub4CYMwFtN"
      },
      "outputs": [],
      "source": [
        "import torch\n",
        "import numpy as np"
      ]
    },
    {
      "cell_type": "markdown",
      "source": [
        "**1D -Tensor Creation**"
      ],
      "metadata": {
        "id": "02bFiqj9Y70P"
      }
    },
    {
      "cell_type": "code",
      "source": [
        "tensor_1 = torch.tensor([1,2,3])\n",
        "print(tensor_1)"
      ],
      "metadata": {
        "colab": {
          "base_uri": "https://localhost:8080/"
        },
        "id": "Q9v6W1yq0Hmv",
        "outputId": "d22cf880-6c5b-4278-dfee-783433b437e1"
      },
      "execution_count": 2,
      "outputs": [
        {
          "output_type": "stream",
          "name": "stdout",
          "text": [
            "tensor([1, 2, 3])\n"
          ]
        }
      ]
    },
    {
      "cell_type": "code",
      "source": [
        "empty_tensor = torch.empty(3)\n",
        "print(empty_tensor)"
      ],
      "metadata": {
        "colab": {
          "base_uri": "https://localhost:8080/"
        },
        "id": "UsmYdKaV0tw2",
        "outputId": "f7258785-e824-48af-f973-85e440b9ac64"
      },
      "execution_count": 3,
      "outputs": [
        {
          "output_type": "stream",
          "name": "stdout",
          "text": [
            "tensor([1.5947e-42, 3.0742e-41, 1.1958e+37])\n"
          ]
        }
      ]
    },
    {
      "cell_type": "code",
      "source": [
        "zero_tensor = torch.zeros(2,3)\n",
        "print(zero_tensor)"
      ],
      "metadata": {
        "colab": {
          "base_uri": "https://localhost:8080/"
        },
        "id": "VXrxtWIj1ECi",
        "outputId": "21709ad7-c01b-4623-ddfd-35a9378f09f4"
      },
      "execution_count": 4,
      "outputs": [
        {
          "output_type": "stream",
          "name": "stdout",
          "text": [
            "tensor([[0., 0., 0.],\n",
            "        [0., 0., 0.]])\n"
          ]
        }
      ]
    },
    {
      "cell_type": "code",
      "source": [
        "one_tensor = torch.ones(3,2)\n",
        "print(one_tensor)"
      ],
      "metadata": {
        "colab": {
          "base_uri": "https://localhost:8080/"
        },
        "id": "s8y_3rtT1dRt",
        "outputId": "63513d1f-c9fa-457f-dd06-5eebd93b585c"
      },
      "execution_count": 5,
      "outputs": [
        {
          "output_type": "stream",
          "name": "stdout",
          "text": [
            "tensor([[1., 1.],\n",
            "        [1., 1.],\n",
            "        [1., 1.]])\n"
          ]
        }
      ]
    },
    {
      "cell_type": "code",
      "source": [
        "#arange(start_value,end_value,step_size)\n",
        "#default s_value=0, step_size=1\n",
        "arange_tensor = torch.arange(1,36,2.5)\n",
        "print(arange_tensor)"
      ],
      "metadata": {
        "colab": {
          "base_uri": "https://localhost:8080/"
        },
        "id": "NYL_-2d81urM",
        "outputId": "71f9d78f-5af5-4266-d99c-22733af981ac"
      },
      "execution_count": 6,
      "outputs": [
        {
          "output_type": "stream",
          "name": "stdout",
          "text": [
            "tensor([ 1.0000,  3.5000,  6.0000,  8.5000, 11.0000, 13.5000, 16.0000, 18.5000,\n",
            "        21.0000, 23.5000, 26.0000, 28.5000, 31.0000, 33.5000])\n"
          ]
        }
      ]
    },
    {
      "cell_type": "code",
      "source": [
        "#linspace(s_value,e_value,no of elements)\n",
        "#it creates arrays with specific no of elements, which are equally spaced b/w begining and end value.\n",
        "linsapce_tensor = torch.linspace(1,10,5)\n",
        "print(linsapce_tensor)"
      ],
      "metadata": {
        "colab": {
          "base_uri": "https://localhost:8080/"
        },
        "id": "4QEYTatSsbgQ",
        "outputId": "8a10deb0-6862-4e1e-c206-66f120fb870a"
      },
      "execution_count": 7,
      "outputs": [
        {
          "output_type": "stream",
          "name": "stdout",
          "text": [
            "tensor([ 1.0000,  3.2500,  5.5000,  7.7500, 10.0000])\n"
          ]
        }
      ]
    },
    {
      "cell_type": "markdown",
      "source": [
        "**2D- Tensor Creation**"
      ],
      "metadata": {
        "id": "jhU4RsGfZAx5"
      }
    },
    {
      "cell_type": "code",
      "source": [
        "random_int_tensor = torch.randint(1,6,(2,3))\n",
        "random_int_tensor"
      ],
      "metadata": {
        "colab": {
          "base_uri": "https://localhost:8080/"
        },
        "id": "XV6k2wNF5GL8",
        "outputId": "de7f0c1f-8348-43c6-971a-9fbb2d012e3e"
      },
      "execution_count": 8,
      "outputs": [
        {
          "output_type": "execute_result",
          "data": {
            "text/plain": [
              "tensor([[2, 3, 3],\n",
              "        [5, 3, 5]])"
            ]
          },
          "metadata": {},
          "execution_count": 8
        }
      ]
    },
    {
      "cell_type": "code",
      "source": [
        "random_tensor = torch.rand(4,5)\n",
        "print(random_tensor)"
      ],
      "metadata": {
        "colab": {
          "base_uri": "https://localhost:8080/"
        },
        "id": "AuNr-cXx1mtc",
        "outputId": "f2db698f-8953-4901-e7bf-cc1bb8e55b57"
      },
      "execution_count": 9,
      "outputs": [
        {
          "output_type": "stream",
          "name": "stdout",
          "text": [
            "tensor([[0.9529, 0.8147, 0.4364, 0.2772, 0.7206],\n",
            "        [0.5236, 0.8245, 0.4365, 0.0969, 0.9588],\n",
            "        [0.5825, 0.9814, 0.2624, 0.9375, 0.2947],\n",
            "        [0.9405, 0.3528, 0.4762, 0.3264, 0.7464]])\n"
          ]
        }
      ]
    },
    {
      "cell_type": "code",
      "source": [
        "random_tensor[1,2]"
      ],
      "metadata": {
        "colab": {
          "base_uri": "https://localhost:8080/"
        },
        "id": "V-QUKPjC184M",
        "outputId": "6f185966-81f5-4009-8cd4-9ddf97948a09"
      },
      "execution_count": 10,
      "outputs": [
        {
          "output_type": "execute_result",
          "data": {
            "text/plain": [
              "tensor(0.4365)"
            ]
          },
          "metadata": {},
          "execution_count": 10
        }
      ]
    },
    {
      "cell_type": "code",
      "source": [
        "random_tensor[1,2].item()"
      ],
      "metadata": {
        "colab": {
          "base_uri": "https://localhost:8080/"
        },
        "id": "u4SJTq0i2zdR",
        "outputId": "f885adcf-0b92-46e1-fe01-d5a39ecb2063"
      },
      "execution_count": 11,
      "outputs": [
        {
          "output_type": "execute_result",
          "data": {
            "text/plain": [
              "0.43652552366256714"
            ]
          },
          "metadata": {},
          "execution_count": 11
        }
      ]
    },
    {
      "cell_type": "code",
      "source": [
        "random_tensor[1,:]"
      ],
      "metadata": {
        "colab": {
          "base_uri": "https://localhost:8080/"
        },
        "id": "yQNnaeNV2Sou",
        "outputId": "854a6199-6010-4b67-a3c8-f3d0a8aa827b"
      },
      "execution_count": 12,
      "outputs": [
        {
          "output_type": "execute_result",
          "data": {
            "text/plain": [
              "tensor([0.5236, 0.8245, 0.4365, 0.0969, 0.9588])"
            ]
          },
          "metadata": {},
          "execution_count": 12
        }
      ]
    },
    {
      "cell_type": "code",
      "source": [
        "random_tensor[:,2]"
      ],
      "metadata": {
        "colab": {
          "base_uri": "https://localhost:8080/"
        },
        "id": "FH7i7gys2b97",
        "outputId": "5c4880a3-e855-43af-b720-78bf3e2dba84"
      },
      "execution_count": 13,
      "outputs": [
        {
          "output_type": "execute_result",
          "data": {
            "text/plain": [
              "tensor([0.4364, 0.4365, 0.2624, 0.4762])"
            ]
          },
          "metadata": {},
          "execution_count": 13
        }
      ]
    },
    {
      "cell_type": "markdown",
      "source": [
        "**Reshaping**"
      ],
      "metadata": {
        "id": "2P4eW_9R6S8q"
      }
    },
    {
      "cell_type": "code",
      "source": [
        "reshaped_tensor = random_tensor.view(-1,2)\n",
        "#or reshaped_tensor = random_tensor.view(5,2)\n",
        "print(\"after reshaping: \",reshaped_tensor)"
      ],
      "metadata": {
        "colab": {
          "base_uri": "https://localhost:8080/"
        },
        "id": "36gpAoAb2Min",
        "outputId": "b9c94463-cb58-40c4-871f-00242615bd1c"
      },
      "execution_count": 14,
      "outputs": [
        {
          "output_type": "stream",
          "name": "stdout",
          "text": [
            "after reshaping:  tensor([[0.9529, 0.8147],\n",
            "        [0.4364, 0.2772],\n",
            "        [0.7206, 0.5236],\n",
            "        [0.8245, 0.4365],\n",
            "        [0.0969, 0.9588],\n",
            "        [0.5825, 0.9814],\n",
            "        [0.2624, 0.9375],\n",
            "        [0.2947, 0.9405],\n",
            "        [0.3528, 0.4762],\n",
            "        [0.3264, 0.7464]])\n"
          ]
        }
      ]
    },
    {
      "cell_type": "code",
      "source": [
        "reshaped_tensor.flatten()"
      ],
      "metadata": {
        "colab": {
          "base_uri": "https://localhost:8080/"
        },
        "id": "e2SrvChz6MXQ",
        "outputId": "e14f20af-1e9a-461d-eb63-70d6e0ea0e67"
      },
      "execution_count": 15,
      "outputs": [
        {
          "output_type": "execute_result",
          "data": {
            "text/plain": [
              "tensor([0.9529, 0.8147, 0.4364, 0.2772, 0.7206, 0.5236, 0.8245, 0.4365, 0.0969,\n",
              "        0.9588, 0.5825, 0.9814, 0.2624, 0.9375, 0.2947, 0.9405, 0.3528, 0.4762,\n",
              "        0.3264, 0.7464])"
            ]
          },
          "metadata": {},
          "execution_count": 15
        }
      ]
    },
    {
      "cell_type": "markdown",
      "source": [
        "**Math Operations**"
      ],
      "metadata": {
        "id": "ZJ70wX5UZpdR"
      }
    },
    {
      "cell_type": "code",
      "source": [
        "#transpose\n",
        "print(random_int_tensor)\n",
        "print(random_int_tensor.T)"
      ],
      "metadata": {
        "colab": {
          "base_uri": "https://localhost:8080/"
        },
        "id": "O3HejvuW9To8",
        "outputId": "8afa33de-763c-4cc1-c014-56cd0a0351c2"
      },
      "execution_count": 16,
      "outputs": [
        {
          "output_type": "stream",
          "name": "stdout",
          "text": [
            "tensor([[2, 3, 3],\n",
            "        [5, 3, 5]])\n",
            "tensor([[2, 5],\n",
            "        [3, 3],\n",
            "        [3, 5]])\n"
          ]
        }
      ]
    },
    {
      "cell_type": "code",
      "source": [
        "a = torch.tensor([1,2,3])\n",
        "b = torch.tensor([4,5,6])\n",
        "\n",
        "add1= a+b\n",
        "print(add1)\n",
        "add2 = torch.add(a,b)\n",
        "print(add2)\n",
        "add3 = a.add_(b)\n",
        "print(add3)\n"
      ],
      "metadata": {
        "colab": {
          "base_uri": "https://localhost:8080/"
        },
        "id": "O1_xx6FX90d8",
        "outputId": "9960ad60-2662-40f0-b0d8-14d3a4c06ae8"
      },
      "execution_count": 17,
      "outputs": [
        {
          "output_type": "stream",
          "name": "stdout",
          "text": [
            "tensor([5, 7, 9])\n",
            "tensor([5, 7, 9])\n",
            "tensor([5, 7, 9])\n"
          ]
        }
      ]
    },
    {
      "cell_type": "code",
      "source": [
        "a = torch.tensor([1,2,3])\n",
        "b = torch.tensor([4,5,6])\n",
        "\n",
        "sub1 = a-b\n",
        "print(sub1)\n",
        "sub2 = torch.sub(a,b)\n",
        "print(sub2)\n",
        "sub3 = a.sub_(b)\n",
        "print(sub3)"
      ],
      "metadata": {
        "colab": {
          "base_uri": "https://localhost:8080/"
        },
        "id": "gZm3XdLt-Xf_",
        "outputId": "2dd03c5b-79c1-4f1d-c742-392883c1ee54"
      },
      "execution_count": 18,
      "outputs": [
        {
          "output_type": "stream",
          "name": "stdout",
          "text": [
            "tensor([-3, -3, -3])\n",
            "tensor([-3, -3, -3])\n",
            "tensor([-3, -3, -3])\n"
          ]
        }
      ]
    },
    {
      "cell_type": "code",
      "source": [
        "a = torch.tensor([1,2,3])\n",
        "b = torch.tensor([4,5,6])\n",
        "\n",
        "mul1 = a*b\n",
        "print(mul1)\n",
        "mul2 = torch.mul(a,b)\n",
        "print(mul2)\n",
        "mul3 = a.mul_(b)\n",
        "print(mul3)"
      ],
      "metadata": {
        "colab": {
          "base_uri": "https://localhost:8080/"
        },
        "id": "v1WOiBvG-fWE",
        "outputId": "74188161-f602-4693-fe81-c92ba688ebd8"
      },
      "execution_count": 19,
      "outputs": [
        {
          "output_type": "stream",
          "name": "stdout",
          "text": [
            "tensor([ 4, 10, 18])\n",
            "tensor([ 4, 10, 18])\n",
            "tensor([ 4, 10, 18])\n"
          ]
        }
      ]
    },
    {
      "cell_type": "markdown",
      "source": [
        "**Element wise product / Hadamard product**"
      ],
      "metadata": {
        "id": "6U-vt_LrGfym"
      }
    },
    {
      "cell_type": "code",
      "source": [
        "x = torch.tensor([[1,2],[3,4]])\n",
        "y = torch.tensor([[5,6],[7,8]])\n",
        "mul4 = torch.mul(x,y)\n",
        "print(mul4)"
      ],
      "metadata": {
        "colab": {
          "base_uri": "https://localhost:8080/"
        },
        "id": "wDZJxLUwHZvN",
        "outputId": "2c1782e4-82ea-4a31-d237-8ba55ebef1f8"
      },
      "execution_count": 20,
      "outputs": [
        {
          "output_type": "stream",
          "name": "stdout",
          "text": [
            "tensor([[ 5, 12],\n",
            "        [21, 32]])\n"
          ]
        }
      ]
    },
    {
      "cell_type": "markdown",
      "source": [
        "**Matrix multiplication**"
      ],
      "metadata": {
        "id": "QTS9OEpvGuJ4"
      }
    },
    {
      "cell_type": "code",
      "source": [
        "x = torch.tensor([[1,2],[3,4]])\n",
        "y = torch.tensor([[5,6],[7,8]])\n",
        "mul5 = torch.mm(x,y)\n",
        "print(mul5)"
      ],
      "metadata": {
        "id": "spme6s6xGtNN",
        "colab": {
          "base_uri": "https://localhost:8080/"
        },
        "outputId": "3a07ff56-66e9-49fd-df81-7379aaad8ac7"
      },
      "execution_count": 21,
      "outputs": [
        {
          "output_type": "stream",
          "name": "stdout",
          "text": [
            "tensor([[19, 22],\n",
            "        [43, 50]])\n"
          ]
        }
      ]
    },
    {
      "cell_type": "code",
      "source": [
        "a = torch.tensor([1,2,3])\n",
        "b = torch.tensor([4,5,6])\n",
        "\n",
        "div1 = a/b\n",
        "print(div1)\n",
        "div2 = torch.div(a,b)\n",
        "print(div2)"
      ],
      "metadata": {
        "colab": {
          "base_uri": "https://localhost:8080/"
        },
        "id": "AMeQKPNv-oBU",
        "outputId": "f42ba563-2444-4208-f81b-7c6395540f0a"
      },
      "execution_count": 22,
      "outputs": [
        {
          "output_type": "stream",
          "name": "stdout",
          "text": [
            "tensor([0.2500, 0.4000, 0.5000])\n",
            "tensor([0.2500, 0.4000, 0.5000])\n"
          ]
        }
      ]
    },
    {
      "cell_type": "markdown",
      "source": [
        "**type vs dtype**"
      ],
      "metadata": {
        "id": "LdlDnq-1aGHZ"
      }
    },
    {
      "cell_type": "code",
      "source": [
        "type(div2),type(mul5)"
      ],
      "metadata": {
        "colab": {
          "base_uri": "https://localhost:8080/"
        },
        "id": "ySQ541LOIMv6",
        "outputId": "4a3e6d76-9ecb-475a-e932-efdd34a6d136"
      },
      "execution_count": 23,
      "outputs": [
        {
          "output_type": "execute_result",
          "data": {
            "text/plain": [
              "(torch.Tensor, torch.Tensor)"
            ]
          },
          "metadata": {},
          "execution_count": 23
        }
      ]
    },
    {
      "cell_type": "code",
      "source": [
        "div2.dtype, mul5.dtype"
      ],
      "metadata": {
        "id": "j9sePzsetCor",
        "colab": {
          "base_uri": "https://localhost:8080/"
        },
        "outputId": "9c4db66b-d687-431d-c46d-ce14a8a4abca"
      },
      "execution_count": 24,
      "outputs": [
        {
          "output_type": "execute_result",
          "data": {
            "text/plain": [
              "(torch.float32, torch.int64)"
            ]
          },
          "metadata": {},
          "execution_count": 24
        }
      ]
    },
    {
      "cell_type": "code",
      "source": [
        "tensor_int = torch.tensor([1,2,3],dtype=torch.int64)\n",
        "print(type(tensor_int))\n",
        "print(tensor_int.dtype)"
      ],
      "metadata": {
        "colab": {
          "base_uri": "https://localhost:8080/"
        },
        "id": "LHl_vBeVIHH4",
        "outputId": "56475ae7-d117-40b0-b485-5d95ebb648d4"
      },
      "execution_count": 25,
      "outputs": [
        {
          "output_type": "stream",
          "name": "stdout",
          "text": [
            "<class 'torch.Tensor'>\n",
            "torch.int64\n"
          ]
        }
      ]
    },
    {
      "cell_type": "code",
      "source": [
        "tensor_float = tensor_int.to(torch.float64)\n",
        "print(tensor_float)\n",
        "print(type(tensor_float))\n",
        "print(tensor_float.dtype)"
      ],
      "metadata": {
        "colab": {
          "base_uri": "https://localhost:8080/"
        },
        "id": "LpyGsUW1IqLP",
        "outputId": "221042ef-1182-4ced-f7f7-a25965e6fa33"
      },
      "execution_count": 26,
      "outputs": [
        {
          "output_type": "stream",
          "name": "stdout",
          "text": [
            "tensor([1., 2., 3.], dtype=torch.float64)\n",
            "<class 'torch.Tensor'>\n",
            "torch.float64\n"
          ]
        }
      ]
    },
    {
      "cell_type": "markdown",
      "source": [
        "**shapes nd sizes**"
      ],
      "metadata": {
        "id": "iDdl66rwThNb"
      }
    },
    {
      "cell_type": "code",
      "source": [
        "x = torch.tensor([[1,2],[3,4]],dtype=torch.float32)\n",
        "print(x)\n",
        "print(type(x))\n",
        "print(x.dtype)\n",
        "print(x.ndim)\n",
        "print(x.size())\n",
        "print(x.shape)"
      ],
      "metadata": {
        "colab": {
          "base_uri": "https://localhost:8080/"
        },
        "id": "zZ_T7uFkT5gc",
        "outputId": "44cc5c10-4754-44c3-e500-94ecb3255988"
      },
      "execution_count": 27,
      "outputs": [
        {
          "output_type": "stream",
          "name": "stdout",
          "text": [
            "tensor([[1., 2.],\n",
            "        [3., 4.]])\n",
            "<class 'torch.Tensor'>\n",
            "torch.float32\n",
            "2\n",
            "torch.Size([2, 2])\n",
            "torch.Size([2, 2])\n"
          ]
        }
      ]
    },
    {
      "cell_type": "markdown",
      "source": [
        "**Device**"
      ],
      "metadata": {
        "id": "_4v7W7_OaLY7"
      }
    },
    {
      "cell_type": "code",
      "source": [
        "tensor_int.device"
      ],
      "metadata": {
        "colab": {
          "base_uri": "https://localhost:8080/"
        },
        "id": "8UkBn-04LrWF",
        "outputId": "91563f0b-80d9-45a1-bb2d-4d64858a177b"
      },
      "execution_count": 28,
      "outputs": [
        {
          "output_type": "execute_result",
          "data": {
            "text/plain": [
              "device(type='cpu')"
            ]
          },
          "metadata": {},
          "execution_count": 28
        }
      ]
    },
    {
      "cell_type": "code",
      "source": [
        "torch.cuda.is_available(), torch.cuda.device_count()"
      ],
      "metadata": {
        "colab": {
          "base_uri": "https://localhost:8080/"
        },
        "id": "hbuvQ7R1SQry",
        "outputId": "d2866a6a-b28b-4037-c2a5-5a4dba55aa10"
      },
      "execution_count": 29,
      "outputs": [
        {
          "output_type": "execute_result",
          "data": {
            "text/plain": [
              "(True, 1)"
            ]
          },
          "metadata": {},
          "execution_count": 29
        }
      ]
    },
    {
      "cell_type": "code",
      "source": [
        "device = torch.device('cuda' if torch.cuda.is_available() else 'cpu')\n",
        "device"
      ],
      "metadata": {
        "colab": {
          "base_uri": "https://localhost:8080/"
        },
        "id": "8E9TkHshQj-q",
        "outputId": "a9d68062-ae54-493b-bbd8-6643cc33ac27"
      },
      "execution_count": 30,
      "outputs": [
        {
          "output_type": "execute_result",
          "data": {
            "text/plain": [
              "device(type='cuda')"
            ]
          },
          "metadata": {},
          "execution_count": 30
        }
      ]
    },
    {
      "cell_type": "code",
      "source": [
        "tensor_int = tensor_int.to(device)"
      ],
      "metadata": {
        "id": "IMwxEYx-RW1G"
      },
      "execution_count": 31,
      "outputs": []
    },
    {
      "cell_type": "code",
      "source": [
        "tensor_int.device"
      ],
      "metadata": {
        "colab": {
          "base_uri": "https://localhost:8080/"
        },
        "id": "55HPLV8CV28w",
        "outputId": "81e6ad76-230b-4324-9116-f64a74ead9ff"
      },
      "execution_count": 32,
      "outputs": [
        {
          "output_type": "execute_result",
          "data": {
            "text/plain": [
              "device(type='cuda', index=0)"
            ]
          },
          "metadata": {},
          "execution_count": 32
        }
      ]
    },
    {
      "cell_type": "code",
      "source": [
        "tensor_new  = torch.tensor([2.5,3.2],dtype=torch.float32, device='cuda')\n",
        "tensor_new"
      ],
      "metadata": {
        "colab": {
          "base_uri": "https://localhost:8080/"
        },
        "id": "GdvZndysRzjO",
        "outputId": "77922892-a113-4fd8-ac1b-99bed6e121bf"
      },
      "execution_count": 33,
      "outputs": [
        {
          "output_type": "execute_result",
          "data": {
            "text/plain": [
              "tensor([2.5000, 3.2000], device='cuda:0')"
            ]
          },
          "metadata": {},
          "execution_count": 33
        }
      ]
    },
    {
      "cell_type": "code",
      "source": [
        "tensor_new.device"
      ],
      "metadata": {
        "colab": {
          "base_uri": "https://localhost:8080/"
        },
        "id": "dSyEROr7TAlN",
        "outputId": "c6ac5455-01f3-4b4a-93fa-1f04998221b2"
      },
      "execution_count": 34,
      "outputs": [
        {
          "output_type": "execute_result",
          "data": {
            "text/plain": [
              "device(type='cuda', index=0)"
            ]
          },
          "metadata": {},
          "execution_count": 34
        }
      ]
    },
    {
      "cell_type": "code",
      "source": [],
      "metadata": {
        "id": "9ng4_DqFTD3O"
      },
      "execution_count": null,
      "outputs": []
    }
  ]
}